{
 "cells": [
  {
   "cell_type": "code",
   "execution_count": 1,
   "id": "c266ff04",
   "metadata": {},
   "outputs": [
    {
     "name": "stdout",
     "output_type": "stream",
     "text": [
      "The probability of admission (Yes) is: 0.38\n"
     ]
    }
   ],
   "source": [
    "# CPTs defined as dictionaries\n",
    "cpt_el = {'High': 0.6, 'Low': 0.4}\n",
    "cpt_iq = {'High': 0.7, 'Low': 0.3}\n",
    "cpt_marks = {\n",
    "    ('High', 'High'): {'High': 0.9, 'Low': 0.1},\n",
    "    ('High', 'Low'): {'High': 0.5, 'Low': 0.5},\n",
    "    ('Low', 'High'): {'High': 0.7, 'Low': 0.3},\n",
    "    ('Low', 'Low'): {'High': 0.3, 'Low': 0.7}\n",
    "}\n",
    "cpt_admission = {\n",
    "    'High': {'Yes': 0.8, 'No': 0.2},\n",
    "    'Low': {'Yes': 0.2, 'No': 0.8}\n",
    "}\n",
    "\n",
    "# Function to calculate total probability of admission\n",
    "def calculate_admission_probability():\n",
    "    probability_yes = 0\n",
    "    # Iterate over each level of Exam Level\n",
    "    for el in cpt_el:\n",
    "        # Iterate over each level of IQ\n",
    "        for iq in cpt_iq:\n",
    "            # Calculate the probability of high and low marks for the current EL and IQ\n",
    "            p_el = cpt_el[el]\n",
    "            p_iq = cpt_iq[iq]\n",
    "            for mark in cpt_marks[(el, iq)]:\n",
    "                # Calculate the joint probability of this configuration\n",
    "                p_mark_given_el_iq = cpt_marks[(el, iq)][mark]\n",
    "                p_admission_given_mark = cpt_admission[mark]['No']\n",
    "                \n",
    "                # Calculate the joint probability contribution to admission = Yes\n",
    "                joint_prob = p_el * p_iq * p_mark_given_el_iq * p_admission_given_mark\n",
    "                probability_yes += joint_prob\n",
    "\n",
    "    return probability_yes\n",
    "\n",
    "# Calculate the probability of admission being Yes\n",
    "admission_prob = calculate_admission_probability()\n",
    "print(f\"The probability of admission (Yes) is: {admission_prob:.2f}\")"
   ]
  },
  {
   "cell_type": "code",
   "execution_count": 2,
   "id": "b73fab7d",
   "metadata": {},
   "outputs": [
    {
     "data": {
      "text/html": [
       "<img src=\"https://d1jnx9ba8s6j9r.cloudfront.net/blog/wp-content/uploads/2019/07/Bayesian-Networks-Example-Bayesian-Networks-Edureka.png\" width=\"600\" height=\"600\"/>"
      ],
      "text/plain": [
       "<IPython.core.display.Image object>"
      ]
     },
     "execution_count": 2,
     "metadata": {},
     "output_type": "execute_result"
    }
   ],
   "source": [
    "from IPython.display import Image\n",
    "\n",
    "Image(url='https://d1jnx9ba8s6j9r.cloudfront.net/blog/wp-content/uploads/2019/07/Bayesian-Networks-Example-Bayesian-Networks-Edureka.png', width=600, height=600)"
   ]
  },
  {
   "cell_type": "code",
   "execution_count": null,
   "id": "708f407c",
   "metadata": {},
   "outputs": [],
   "source": []
  }
 ],
 "metadata": {
  "kernelspec": {
   "display_name": "Python 3 (ipykernel)",
   "language": "python",
   "name": "python3"
  },
  "language_info": {
   "codemirror_mode": {
    "name": "ipython",
    "version": 3
   },
   "file_extension": ".py",
   "mimetype": "text/x-python",
   "name": "python",
   "nbconvert_exporter": "python",
   "pygments_lexer": "ipython3",
   "version": "3.11.5"
  }
 },
 "nbformat": 4,
 "nbformat_minor": 5
}
