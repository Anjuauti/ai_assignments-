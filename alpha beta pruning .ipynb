{
 "cells": [
  {
   "cell_type": "code",
   "execution_count": 3,
   "id": "8e99300e",
   "metadata": {},
   "outputs": [
    {
     "name": "stdout",
     "output_type": "stream",
     "text": [
      "The optimal value is : 5\n"
     ]
    },
    {
     "data": {
      "text/html": [
       "<img src=\"mn.jpg\" width=\"600\" height=\"600\"/>"
      ],
      "text/plain": [
       "<IPython.core.display.Image object>"
      ]
     },
     "execution_count": 3,
     "metadata": {},
     "output_type": "execute_result"
    }
   ],
   "source": [
    "\n",
    "# Initial values of Alpha and Beta \n",
    "MAX, MIN = 1000, -1000\n",
    " \n",
    "\n",
    "      \n",
    "def minimax(depth, nodeIndex, maximizingPlayer, \n",
    "            values, alpha, beta): \n",
    "  \n",
    "   \n",
    "    if depth == 3: \n",
    "        return values[nodeIndex] \n",
    " \n",
    "    if maximizingPlayer: \n",
    "      \n",
    "        best = MIN\n",
    " \n",
    "        # Recur for left and right children \n",
    "        for i in range(0, 2): \n",
    "             \n",
    "            val = minimax(depth + 1, nodeIndex * 2 + i, \n",
    "                          False, values, alpha, beta) \n",
    "            best = max(best, val) \n",
    "            alpha = max(alpha, best) \n",
    " \n",
    "            # Alpha Beta Pruning \n",
    "            if beta <= alpha: \n",
    "                break\n",
    "          \n",
    "        return best \n",
    "      \n",
    "    else:\n",
    "        best = MAX\n",
    " \n",
    "        # Recur for left and \n",
    "        # right children \n",
    "        for i in range(0, 2): \n",
    "          \n",
    "            val = minimax(depth + 1, nodeIndex * 2 + i, \n",
    "                            True, values, alpha, beta) \n",
    "            best = min(best, val) \n",
    "            beta = min(beta, best) \n",
    " \n",
    "            # Alpha Beta Pruning \n",
    "            if beta <= alpha: \n",
    "                break\n",
    "          \n",
    "        return best \n",
    "# Driver Code \n",
    "if __name__ == \"__main__\": \n",
    "  \n",
    "    values = [3, 5, 6, 9, 1, 2, 0, -1]\n",
    "    print(\"The optimal value is :\", minimax(0, 0, True, values, MIN, MAX)) \n",
    "\n",
    "from IPython.display import Image\n",
    "\n",
    "Image(url='mn.jpg', width=600, height=600)\n"
   ]
  },
  {
   "cell_type": "code",
   "execution_count": null,
   "id": "e0db29cf",
   "metadata": {},
   "outputs": [],
   "source": []
  }
 ],
 "metadata": {
  "kernelspec": {
   "display_name": "Python 3 (ipykernel)",
   "language": "python",
   "name": "python3"
  },
  "language_info": {
   "codemirror_mode": {
    "name": "ipython",
    "version": 3
   },
   "file_extension": ".py",
   "mimetype": "text/x-python",
   "name": "python",
   "nbconvert_exporter": "python",
   "pygments_lexer": "ipython3",
   "version": "3.11.5"
  }
 },
 "nbformat": 4,
 "nbformat_minor": 5
}
