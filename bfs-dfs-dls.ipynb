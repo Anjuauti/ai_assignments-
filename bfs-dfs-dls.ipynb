{
 "cells": [
  {
   "cell_type": "code",
   "execution_count": 3,
   "id": "e7d52b34",
   "metadata": {},
   "outputs": [
    {
     "name": "stdout",
     "output_type": "stream",
     "text": [
      "Here is the Breadth-First Search starting from node A is: \n",
      "A B C D E F "
     ]
    }
   ],
   "source": [
    "graph = {\n",
    "'A' : ['B','C'],\n",
    "'B' : ['D', 'E'],\n",
    "'C' : ['F'],\n",
    "'D' : [],\n",
    "'E' : [],\n",
    "'F' : []\n",
    "}\n",
    "visited = []\n",
    "queue = []\n",
    "\n",
    "def bfs(visited, graph, node):\n",
    "    visited.append(node)\n",
    "    queue.append(node)\n",
    "    while queue:\n",
    "        m = queue.pop(0)\n",
    "        print(m, end=\" \")\n",
    "        for neighbour in graph[m]:\n",
    "            if neighbour not in visited:\n",
    "                visited.append(neighbour)\n",
    "                queue.append(neighbour)\n",
    "            \n",
    "start_node = 'A'\n",
    "print(f\"Here is the Breadth-First Search starting from node A is: \")\n",
    "bfs(visited, graph, 'A')\n"
   ]
  },
  {
   "cell_type": "code",
   "execution_count": 4,
   "id": "ad1fc3a2",
   "metadata": {},
   "outputs": [
    {
     "name": "stdout",
     "output_type": "stream",
     "text": [
      "Here is the Depth-First Search starting from node A: \n",
      "A B D E C F "
     ]
    }
   ],
   "source": [
    " graph = {\n",
    "'A': ['B', 'C'],\n",
    "'B': ['D', 'E'],\n",
    "'C': ['F'],\n",
    "'D': [],\n",
    "'E': [],\n",
    "'F': []\n",
    " }\n",
    "\n",
    "visited = []\n",
    "def dfs(visited, graph, node):\n",
    "    if node not in visited:\n",
    "        print(node, end=\" \")\n",
    "        visited.append(node)\n",
    "        for neighbor in graph[node]:\n",
    "            dfs(visited, graph, neighbor)\n",
    "            \n",
    "print(\"Here is the Depth-First Search starting from node A: \")\n",
    "dfs(visited, graph, 'A')\n"
   ]
  },
  {
   "cell_type": "code",
   "execution_count": 15,
   "id": "c636fe48",
   "metadata": {},
   "outputs": [
    {
     "name": "stdout",
     "output_type": "stream",
     "text": [
      "A->B->D->\n",
      "Goal found within depth limit!\n"
     ]
    }
   ],
   "source": [
    "class Graph:\n",
    "\n",
    "    def __init__(self):\n",
    "        self.graph = {}\n",
    "\n",
    "    def add_edge(self, node, neighbors):\n",
    "        self.graph[node] = neighbors\n",
    "\n",
    "def depth_limited_search(graph, node, goal, depth_limit):\n",
    "    return recursive_dls(graph, node, goal, depth_limit)\n",
    "\n",
    "def recursive_dls(graph, node, goal, depth_limit):\n",
    "    print(node, end=\"->\")\n",
    "    if node == goal:\n",
    "        return True\n",
    "    elif depth_limit == 0:\n",
    "        return False\n",
    "    else:\n",
    "        for neighbor in graph.get(node, []):\n",
    "            if recursive_dls(graph, neighbor, goal, depth_limit - 1):\n",
    "                return True\n",
    "        return False\n",
    "\n",
    "my_graph = Graph()\n",
    "my_graph.add_edge(\"A\", [\"B\", \"C\"])\n",
    "my_graph.add_edge(\"B\", [\"D\", \"E\"])\n",
    "my_graph.add_edge(\"C\", [\"F\"])\n",
    "my_graph.add_edge(\"E\", [\"F\"])\n",
    "\n",
    "initial_state = \"A\"\n",
    "goal_state = \"D\"\n",
    "depth_limit = 2\n",
    "\n",
    "result = depth_limited_search(my_graph.graph, initial_state, goal_state, depth_limit)\n",
    "\n",
    "if result:\n",
    "    print(\"\\nGoal found within depth limit!\")\n",
    "else:\n",
    "    print(\"Goal not found within depth limit.\")\n",
    "\n",
    "# Check code of depth limited search\n"
   ]
  },
  {
   "cell_type": "code",
   "execution_count": null,
   "id": "cdb61c13",
   "metadata": {},
   "outputs": [],
   "source": []
  }
 ],
 "metadata": {
  "kernelspec": {
   "display_name": "Python 3 (ipykernel)",
   "language": "python",
   "name": "python3"
  },
  "language_info": {
   "codemirror_mode": {
    "name": "ipython",
    "version": 3
   },
   "file_extension": ".py",
   "mimetype": "text/x-python",
   "name": "python",
   "nbconvert_exporter": "python",
   "pygments_lexer": "ipython3",
   "version": "3.11.5"
  }
 },
 "nbformat": 4,
 "nbformat_minor": 5
}
